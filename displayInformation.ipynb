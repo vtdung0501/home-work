{
 "cells": [
  {
   "cell_type": "code",
   "execution_count": 3,
   "id": "52cfbf39",
   "metadata": {},
   "outputs": [
    {
     "name": "stdout",
     "output_type": "stream",
     "text": [
      "Họ Và Tên: Vũ Tiến Dũng\n",
      "Địa Chỉ: Đường số 12, p.Trường Thọ, tp.Thủ Đức, tp.HCM\n",
      "Định hướng tương lai: Mong muốn có thể trở thành một lập trình viên trong tương lai\n"
     ]
    }
   ],
   "source": [
    "print(\"Họ Và Tên: Vũ Tiến Dũng\")\n",
    "print(\"Địa Chỉ: Đường số 12, p.Trường Thọ, tp.Thủ Đức, tp.HCM\")\n",
    "print(\"Định hướng tương lai: Mong muốn có thể trở thành một lập trình viên trong tương lai\")"
   ]
  },
  {
   "cell_type": "code",
   "execution_count": null,
   "id": "7404a5e9",
   "metadata": {},
   "outputs": [],
   "source": []
  }
 ],
 "metadata": {
  "kernelspec": {
   "display_name": "Python 3 (ipykernel)",
   "language": "python",
   "name": "python3"
  },
  "language_info": {
   "codemirror_mode": {
    "name": "ipython",
    "version": 3
   },
   "file_extension": ".py",
   "mimetype": "text/x-python",
   "name": "python",
   "nbconvert_exporter": "python",
   "pygments_lexer": "ipython3",
   "version": "3.9.12"
  }
 },
 "nbformat": 4,
 "nbformat_minor": 5
}
